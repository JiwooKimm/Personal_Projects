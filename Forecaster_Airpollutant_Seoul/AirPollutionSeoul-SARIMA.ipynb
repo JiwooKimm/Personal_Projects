{
 "cells": [
  {
   "cell_type": "markdown",
   "id": "45f64cf2",
   "metadata": {},
   "source": [
    "### About Datasets\n",
    "\n",
    "- Context \n",
    "<span style=\"color: gray\"><br>\n",
    "This dataset deals with air pollution measurement information in Seoul, South Korea.<br>\n",
    "Seoul Metropolitan Government provides many public data, including air pollution information, through the 'Open Data Plaza'.<br>\n",
    "I made a structured dataset by collecting and adjusting various air pollution related datasets provided by the Seoul Metropolitan Government<br></span>\n",
    "<br><br> \n",
    "- Content\n",
    "<span style=\"color: gray\"><br>\n",
    "This data provides average values for six pollutants (SO2, NO2, CO, O3, PM10, PM2.5).<br>\n",
    "Data were measured every hour between 2017 and 2019.<br>\n",
    "Data were measured for 25 districts in Seoul.<br>\n",
    "This dataset is divided into four files.<br><br>\n",
    "(1) Measurement info: Air pollution measurement information<br>\n",
    "    * 1 hour average measurement is provided after calibration\n",
    "    * Instrument status:<br>\n",
    "      \\- 0: Normal, 1: Need for calibration, 2: Abnormal <br>\n",
    "      \\- 4: Power cut off, 8: Under repair, 9: abnormal data<br>\n",
    "<br>\n",
    "(2) Measurement item info: Information on air pollution measurement items<br>\n",
    "(3) Measurement station info: Information on air pollution instrument stations<br>\n",
    "(4) Measurement summary: A condensed dataset based on the above three data.<br>\n",
    "</span>\n",
    "<br><br>\n",
    "- Acknowledgements\n",
    "<span style=\"color: gray\"><br>\n",
    "Data is provided from here.<br>\n",
    "<br>\n",
    "    * https://data.seoul.go.kr/dataList/OA-15526/S/1/datasetView.do<br>\n",
    "    * https://data.seoul.go.kr/dataList/OA-15516/S/1/datasetView.do<br>\n",
    "    * https://data.seoul.go.kr/dataList/OA-15515/S/1/datasetView.do<br>\n",
    "<span style=\"color: gray\"><br>\n",
    "Thank you to Seoul City, Seoul Open Data Plaza, and Air Quality Analysis Center for providing data.</span>\n",
    "<br>  <br>  \n",
    "------"
   ]
  },
  {
   "cell_type": "code",
   "execution_count": 192,
   "id": "fd61e2f2",
   "metadata": {},
   "outputs": [
    {
     "data": {
      "text/html": [
       "<div>\n",
       "<style scoped>\n",
       "    .dataframe tbody tr th:only-of-type {\n",
       "        vertical-align: middle;\n",
       "    }\n",
       "\n",
       "    .dataframe tbody tr th {\n",
       "        vertical-align: top;\n",
       "    }\n",
       "\n",
       "    .dataframe thead th {\n",
       "        text-align: right;\n",
       "    }\n",
       "</style>\n",
       "<table border=\"1\" class=\"dataframe\">\n",
       "  <thead>\n",
       "    <tr style=\"text-align: right;\">\n",
       "      <th></th>\n",
       "      <th>Measurement date</th>\n",
       "      <th>Station code</th>\n",
       "      <th>O3</th>\n",
       "    </tr>\n",
       "  </thead>\n",
       "  <tbody>\n",
       "    <tr>\n",
       "      <th>0</th>\n",
       "      <td>2017-01-01 00:00</td>\n",
       "      <td>101</td>\n",
       "      <td>0.002</td>\n",
       "    </tr>\n",
       "    <tr>\n",
       "      <th>1</th>\n",
       "      <td>2017-01-01 01:00</td>\n",
       "      <td>101</td>\n",
       "      <td>0.002</td>\n",
       "    </tr>\n",
       "    <tr>\n",
       "      <th>2</th>\n",
       "      <td>2017-01-01 02:00</td>\n",
       "      <td>101</td>\n",
       "      <td>0.002</td>\n",
       "    </tr>\n",
       "    <tr>\n",
       "      <th>3</th>\n",
       "      <td>2017-01-01 03:00</td>\n",
       "      <td>101</td>\n",
       "      <td>0.002</td>\n",
       "    </tr>\n",
       "    <tr>\n",
       "      <th>4</th>\n",
       "      <td>2017-01-01 04:00</td>\n",
       "      <td>101</td>\n",
       "      <td>0.002</td>\n",
       "    </tr>\n",
       "  </tbody>\n",
       "</table>\n",
       "</div>"
      ],
      "text/plain": [
       "   Measurement date  Station code     O3\n",
       "0  2017-01-01 00:00           101  0.002\n",
       "1  2017-01-01 01:00           101  0.002\n",
       "2  2017-01-01 02:00           101  0.002\n",
       "3  2017-01-01 03:00           101  0.002\n",
       "4  2017-01-01 04:00           101  0.002"
      ]
     },
     "execution_count": 192,
     "metadata": {},
     "output_type": "execute_result"
    }
   ],
   "source": [
    "import numpy as np # linear algebra\n",
    "import pandas as pd # data processing, CSV file I/O (e.g. pd.read_csv)\n",
    "import seaborn as sns\n",
    "import matplotlib.pyplot as plt \n",
    "#import plotly.graph_objects as go\n",
    "from sklearn import metrics\n",
    "from sklearn.preprocessing import LabelEncoder\n",
    "from sklearn import datasets, linear_model\n",
    "from sklearn.metrics import mean_squared_error, r2_score\n",
    "from sklearn.model_selection import train_test_split\n",
    "from sklearn.model_selection import KFold\n",
    "from sklearn.metrics import accuracy_score\n",
    "from sklearn.tree import DecisionTreeClassifier\n",
    "from sklearn.linear_model import LogisticRegression\n",
    "from sklearn.ensemble import RandomForestRegressor\n",
    "from sklearn.ensemble import GradientBoostingClassifier\n",
    "from sklearn.ensemble import GradientBoostingRegressor\n",
    "\n",
    "\n",
    "labelencoder = LabelEncoder()\n",
    "%matplotlib inline\n",
    "\n",
    "froot='/Users/jiwookim/Library/Mobile Documents/com~apple~CloudDocs/Documents/Lecture/Machine_Learning_2022-1/Term_Project/Measurement_summary.csv'\n",
    "data= pd.read_csv(froot)\n",
    "data.head()\n",
    "\n",
    "\n",
    "O3df= data.loc[:,['Measurement date', 'Station code','O3']] #필요정보만 추출\n",
    "O3df.head()"
   ]
  },
  {
   "cell_type": "markdown",
   "id": "119ab961",
   "metadata": {},
   "source": [
    "preprocessig of null, nan, missing value(<0) "
   ]
  },
  {
   "cell_type": "code",
   "execution_count": 193,
   "id": "a7a28cc7",
   "metadata": {
    "scrolled": true
   },
   "outputs": [
    {
     "name": "stdout",
     "output_type": "stream",
     "text": [
      "<class 'pandas.core.frame.DataFrame'>\n",
      "RangeIndex: 647511 entries, 0 to 647510\n",
      "Data columns (total 3 columns):\n",
      " #   Column            Non-Null Count   Dtype  \n",
      "---  ------            --------------   -----  \n",
      " 0   Measurement date  647511 non-null  object \n",
      " 1   Station code      647511 non-null  int64  \n",
      " 2   O3                647511 non-null  float64\n",
      "dtypes: float64(1), int64(1), object(1)\n",
      "memory usage: 14.8+ MB\n"
     ]
    }
   ],
   "source": [
    "#check Null\n",
    "O3df.info() "
   ]
  },
  {
   "cell_type": "code",
   "execution_count": 194,
   "id": "570bb1aa",
   "metadata": {},
   "outputs": [
    {
     "data": {
      "text/plain": [
       "0"
      ]
     },
     "execution_count": 194,
     "metadata": {},
     "output_type": "execute_result"
    }
   ],
   "source": [
    "#check num of NaN\n",
    "O3df.iloc[:,2].isna().sum()"
   ]
  },
  {
   "cell_type": "code",
   "execution_count": 195,
   "id": "9b21e8ab",
   "metadata": {},
   "outputs": [
    {
     "name": "stdout",
     "output_type": "stream",
     "text": [
      "num of negative value:  (4059, 3)\n",
      "original data size:  (647511, 3)\n",
      "preprocessed data size:  (643452, 3)\n"
     ]
    }
   ],
   "source": [
    "#check missing value (represented as negative value)\n",
    "\n",
    "miss= O3df.loc[(O3df[\"O3\"] < 0)]\n",
    "print('num of negative value: ', miss.shape)\n",
    "\n",
    "df= O3df.drop(miss.index, axis=0)\n",
    "print('original data size: ',O3df.shape)\n",
    "print('preprocessed data size: ',df.shape)"
   ]
  },
  {
   "cell_type": "code",
   "execution_count": 196,
   "id": "bd5f7bfc",
   "metadata": {},
   "outputs": [
    {
     "data": {
      "text/html": [
       "<div>\n",
       "<style scoped>\n",
       "    .dataframe tbody tr th:only-of-type {\n",
       "        vertical-align: middle;\n",
       "    }\n",
       "\n",
       "    .dataframe tbody tr th {\n",
       "        vertical-align: top;\n",
       "    }\n",
       "\n",
       "    .dataframe thead th {\n",
       "        text-align: right;\n",
       "    }\n",
       "</style>\n",
       "<table border=\"1\" class=\"dataframe\">\n",
       "  <thead>\n",
       "    <tr style=\"text-align: right;\">\n",
       "      <th></th>\n",
       "      <th>Station code</th>\n",
       "      <th>Station name(district)</th>\n",
       "      <th>Address</th>\n",
       "      <th>Latitude</th>\n",
       "      <th>Longitude</th>\n",
       "    </tr>\n",
       "  </thead>\n",
       "  <tbody>\n",
       "    <tr>\n",
       "      <th>0</th>\n",
       "      <td>101</td>\n",
       "      <td>Jongno-gu</td>\n",
       "      <td>19, Jong-ro 35ga-gil, Jongno-gu, Seoul, Republ...</td>\n",
       "      <td>37.572016</td>\n",
       "      <td>127.005008</td>\n",
       "    </tr>\n",
       "    <tr>\n",
       "      <th>1</th>\n",
       "      <td>102</td>\n",
       "      <td>Jung-gu</td>\n",
       "      <td>15, Deoksugung-gil, Jung-gu, Seoul, Republic o...</td>\n",
       "      <td>37.564263</td>\n",
       "      <td>126.974676</td>\n",
       "    </tr>\n",
       "    <tr>\n",
       "      <th>2</th>\n",
       "      <td>103</td>\n",
       "      <td>Yongsan-gu</td>\n",
       "      <td>136, Hannam-daero, Yongsan-gu, Seoul, Republic...</td>\n",
       "      <td>37.540033</td>\n",
       "      <td>127.004850</td>\n",
       "    </tr>\n",
       "    <tr>\n",
       "      <th>3</th>\n",
       "      <td>104</td>\n",
       "      <td>Eunpyeong-gu</td>\n",
       "      <td>215, Jinheung-ro, Eunpyeong-gu, Seoul, Republi...</td>\n",
       "      <td>37.609823</td>\n",
       "      <td>126.934848</td>\n",
       "    </tr>\n",
       "    <tr>\n",
       "      <th>4</th>\n",
       "      <td>105</td>\n",
       "      <td>Seodaemun-gu</td>\n",
       "      <td>32, Segeomjeong-ro 4-gil, Seodaemun-gu, Seoul,...</td>\n",
       "      <td>37.593742</td>\n",
       "      <td>126.949679</td>\n",
       "    </tr>\n",
       "  </tbody>\n",
       "</table>\n",
       "</div>"
      ],
      "text/plain": [
       "   Station code Station name(district)  \\\n",
       "0           101              Jongno-gu   \n",
       "1           102                Jung-gu   \n",
       "2           103             Yongsan-gu   \n",
       "3           104           Eunpyeong-gu   \n",
       "4           105           Seodaemun-gu   \n",
       "\n",
       "                                             Address   Latitude   Longitude  \n",
       "0  19, Jong-ro 35ga-gil, Jongno-gu, Seoul, Republ...  37.572016  127.005008  \n",
       "1  15, Deoksugung-gil, Jung-gu, Seoul, Republic o...  37.564263  126.974676  \n",
       "2  136, Hannam-daero, Yongsan-gu, Seoul, Republic...  37.540033  127.004850  \n",
       "3  215, Jinheung-ro, Eunpyeong-gu, Seoul, Republi...  37.609823  126.934848  \n",
       "4  32, Segeomjeong-ro 4-gil, Seodaemun-gu, Seoul,...  37.593742  126.949679  "
      ]
     },
     "execution_count": 196,
     "metadata": {},
     "output_type": "execute_result"
    }
   ],
   "source": [
    "fstation='/Users/jiwookim/Library/Mobile Documents/com~apple~CloudDocs/Documents/Lecture/Machine_Learning_2022-1/Term_Project/Measurement_station_info.csv'\n",
    "station_info= pd.read_csv(fstation)\n",
    "station_info.head()\n"
   ]
  },
  {
   "cell_type": "code",
   "execution_count": 197,
   "id": "c4b4b50f",
   "metadata": {},
   "outputs": [],
   "source": [
    "#st102_index=df['Station code'] == 102\n",
    "#st102= df[st102_index]\n",
    "#st102.head(1)"
   ]
  },
  {
   "cell_type": "code",
   "execution_count": 198,
   "id": "c08a7d56",
   "metadata": {},
   "outputs": [],
   "source": [
    "#Loc= ((df.Longitude.min(),   df.Longitude.max(), df.Longitude.mean(),       \n",
    "#         df.Latitude.min(), df.Latitude.max(), df.Latitude.mean()))\n",
    "       "
   ]
  },
  {
   "cell_type": "code",
   "execution_count": 199,
   "id": "1aed1301",
   "metadata": {},
   "outputs": [
    {
     "data": {
      "image/png": "[encoded data removed]",
      "text/plain": [
       "<Figure size 864x360 with 2 Axes>"
      ]
     },
     "metadata": {
      "needs_background": "light"
     },
     "output_type": "display_data"
    }
   ],
   "source": [
    "cols = df.columns[:50]\n",
    "plt.figure(figsize = (12,5))\n",
    "sns.heatmap(df[cols].corr(), annot = True, cmap= 'Blues')\n",
    "\n",
    "fpath='/Users/jiwookim/Library/Mobile Documents/com~apple~CloudDocs/Documents/Lecture/Machine_Learning_2022-1/Term_Project/'\n",
    "plt.savefig(fpath+'DataCorr_heatmap.eps')"
   ]
  },
  {
   "cell_type": "code",
   "execution_count": 200,
   "id": "c7b5833e",
   "metadata": {},
   "outputs": [
    {
     "data": {
      "text/html": [
       "<div>\n",
       "<style scoped>\n",
       "    .dataframe tbody tr th:only-of-type {\n",
       "        vertical-align: middle;\n",
       "    }\n",
       "\n",
       "    .dataframe tbody tr th {\n",
       "        vertical-align: top;\n",
       "    }\n",
       "\n",
       "    .dataframe thead th {\n",
       "        text-align: right;\n",
       "    }\n",
       "</style>\n",
       "<table border=\"1\" class=\"dataframe\">\n",
       "  <thead>\n",
       "    <tr style=\"text-align: right;\">\n",
       "      <th></th>\n",
       "      <th>Measurement date</th>\n",
       "      <th>Station code</th>\n",
       "      <th>O3</th>\n",
       "    </tr>\n",
       "  </thead>\n",
       "  <tbody>\n",
       "    <tr>\n",
       "      <th>0</th>\n",
       "      <td>2017-01-01 00:00</td>\n",
       "      <td>101</td>\n",
       "      <td>0.002</td>\n",
       "    </tr>\n",
       "    <tr>\n",
       "      <th>1</th>\n",
       "      <td>2017-01-01 01:00</td>\n",
       "      <td>101</td>\n",
       "      <td>0.002</td>\n",
       "    </tr>\n",
       "    <tr>\n",
       "      <th>2</th>\n",
       "      <td>2017-01-01 02:00</td>\n",
       "      <td>101</td>\n",
       "      <td>0.002</td>\n",
       "    </tr>\n",
       "    <tr>\n",
       "      <th>3</th>\n",
       "      <td>2017-01-01 03:00</td>\n",
       "      <td>101</td>\n",
       "      <td>0.002</td>\n",
       "    </tr>\n",
       "    <tr>\n",
       "      <th>4</th>\n",
       "      <td>2017-01-01 04:00</td>\n",
       "      <td>101</td>\n",
       "      <td>0.002</td>\n",
       "    </tr>\n",
       "  </tbody>\n",
       "</table>\n",
       "</div>"
      ],
      "text/plain": [
       "   Measurement date  Station code     O3\n",
       "0  2017-01-01 00:00           101  0.002\n",
       "1  2017-01-01 01:00           101  0.002\n",
       "2  2017-01-01 02:00           101  0.002\n",
       "3  2017-01-01 03:00           101  0.002\n",
       "4  2017-01-01 04:00           101  0.002"
      ]
     },
     "execution_count": 200,
     "metadata": {},
     "output_type": "execute_result"
    }
   ],
   "source": [
    "for i in range(1,26):\n",
    "  sc_data= df.loc[data['Station code'] == 100+i]  \n",
    "  globals()['sc' + str(i)] =sc_data\n",
    "\n",
    "sc1.head()"
   ]
  },
  {
   "cell_type": "markdown",
   "id": "95d1c781",
   "metadata": {},
   "source": [
    "### Estimate Ozone Density by 'Gu' of Seoul\n",
    "<span>\n",
    "1. Random Forest Regressor\n",
    "</span>\n",
    "<br><br>"
   ]
  },
  {
   "cell_type": "code",
   "execution_count": 201,
   "id": "4c0cdd51",
   "metadata": {
    "scrolled": true
   },
   "outputs": [
    {
     "data": {
      "text/html": [
       "<div>\n",
       "<style scoped>\n",
       "    .dataframe tbody tr th:only-of-type {\n",
       "        vertical-align: middle;\n",
       "    }\n",
       "\n",
       "    .dataframe tbody tr th {\n",
       "        vertical-align: top;\n",
       "    }\n",
       "\n",
       "    .dataframe thead th {\n",
       "        text-align: right;\n",
       "    }\n",
       "</style>\n",
       "<table border=\"1\" class=\"dataframe\">\n",
       "  <thead>\n",
       "    <tr style=\"text-align: right;\">\n",
       "      <th></th>\n",
       "      <th>Measurement date</th>\n",
       "      <th>O3</th>\n",
       "    </tr>\n",
       "  </thead>\n",
       "  <tbody>\n",
       "    <tr>\n",
       "      <th>0</th>\n",
       "      <td>2017-01-01 00:00</td>\n",
       "      <td>0.002</td>\n",
       "    </tr>\n",
       "    <tr>\n",
       "      <th>1</th>\n",
       "      <td>2017-01-01 01:00</td>\n",
       "      <td>0.002</td>\n",
       "    </tr>\n",
       "    <tr>\n",
       "      <th>2</th>\n",
       "      <td>2017-01-01 02:00</td>\n",
       "      <td>0.002</td>\n",
       "    </tr>\n",
       "    <tr>\n",
       "      <th>3</th>\n",
       "      <td>2017-01-01 03:00</td>\n",
       "      <td>0.002</td>\n",
       "    </tr>\n",
       "    <tr>\n",
       "      <th>4</th>\n",
       "      <td>2017-01-01 04:00</td>\n",
       "      <td>0.002</td>\n",
       "    </tr>\n",
       "  </tbody>\n",
       "</table>\n",
       "</div>"
      ],
      "text/plain": [
       "   Measurement date     O3\n",
       "0  2017-01-01 00:00  0.002\n",
       "1  2017-01-01 01:00  0.002\n",
       "2  2017-01-01 02:00  0.002\n",
       "3  2017-01-01 03:00  0.002\n",
       "4  2017-01-01 04:00  0.002"
      ]
     },
     "execution_count": 201,
     "metadata": {},
     "output_type": "execute_result"
    }
   ],
   "source": [
    "Ozone= sc1.drop('Station code', axis=1)\n",
    "Ozone.shape\n",
    "type(O3)\n",
    "Ozone.head()"
   ]
  },
  {
   "cell_type": "code",
   "execution_count": 202,
   "id": "f48957f9",
   "metadata": {},
   "outputs": [
    {
     "name": "stdout",
     "output_type": "stream",
     "text": [
      "0    2017-01-01 00:00\n",
      "1    2017-01-01 01:00\n",
      "2    2017-01-01 02:00\n",
      "3    2017-01-01 03:00\n",
      "4    2017-01-01 04:00\n",
      "Name: Measurement date, dtype: object\n",
      "<class 'pandas.core.frame.DataFrame'>\n",
      "Index: 25877 entries, 2017-01-01 00:00 to 2019-12-31 23:00\n",
      "Data columns (total 1 columns):\n",
      " #   Column  Non-Null Count  Dtype  \n",
      "---  ------  --------------  -----  \n",
      " 0   O3      25877 non-null  float64\n",
      "dtypes: float64(1)\n",
      "memory usage: 404.3+ KB\n"
     ]
    }
   ],
   "source": [
    "print(Ozone['Measurement date'].head())\n",
    "Ozone.index= Ozone['Measurement date']\n",
    "Ozone.set_index('Measurement date', inplace=True)\n",
    "Ozone.head()\n",
    "Ozone.info()"
   ]
  },
  {
   "cell_type": "code",
   "execution_count": 203,
   "id": "dcc70e63",
   "metadata": {},
   "outputs": [
    {
     "data": {
      "image/png": "[encoded data removed]",
      "text/plain": [
       "<Figure size 936x216 with 1 Axes>"
      ]
     },
     "metadata": {
      "needs_background": "light"
     },
     "output_type": "display_data"
    }
   ],
   "source": [
    "Ozone.plot(figsize=(13,3), legend=False)\n",
    "\n",
    "plt.show()"
   ]
  },
  {
   "cell_type": "code",
   "execution_count": 204,
   "id": "37b86e97",
   "metadata": {},
   "outputs": [
    {
     "data": {
      "image/png": "[encoded data removed]",
      "text/plain": [
       "<Figure size 432x288 with 1 Axes>"
      ]
     },
     "metadata": {
      "needs_background": "light"
     },
     "output_type": "display_data"
    },
    {
     "data": {
      "image/png": "[encoded data removed]",
      "text/plain": [
       "<Figure size 432x288 with 1 Axes>"
      ]
     },
     "metadata": {
      "needs_background": "light"
     },
     "output_type": "display_data"
    }
   ],
   "source": [
    "from statsmodels.graphics.tsaplots import plot_acf, plot_pacf\n",
    "\n",
    "plot_acf(Ozone)\n",
    "plot_pacf(Ozone)\n",
    "plt.show()"
   ]
  },
  {
   "cell_type": "code",
   "execution_count": 219,
   "id": "3902fb0d",
   "metadata": {},
   "outputs": [
    {
     "data": {
      "text/plain": [
       "<Figure size 720x216 with 0 Axes>"
      ]
     },
     "metadata": {},
     "output_type": "display_data"
    },
    {
     "data": {
      "image/png": "[encoded data removed]",
      "text/plain": [
       "<Figure size 432x288 with 1 Axes>"
      ]
     },
     "metadata": {
      "needs_background": "light"
     },
     "output_type": "display_data"
    },
    {
     "data": {
      "image/png": "[encoded data removed]",
      "text/plain": [
       "<Figure size 432x288 with 1 Axes>"
      ]
     },
     "metadata": {
      "needs_background": "light"
     },
     "output_type": "display_data"
    },
    {
     "data": {
      "image/png": "[encoded data removed]",
      "text/plain": [
       "<Figure size 432x288 with 1 Axes>"
      ]
     },
     "metadata": {
      "needs_background": "light"
     },
     "output_type": "display_data"
    }
   ],
   "source": [
    "periods=2\n",
    "diff_1=Ozone.diff(periods=periods).iloc[periods:]\n",
    "plt.figure(figsize=(10,3))\n",
    "diff_1.plot()\n",
    "plot_acf(diff_1)\n",
    "plot_pacf(diff_1)\n",
    "plt.show()"
   ]
  },
  {
   "cell_type": "code",
   "execution_count": 221,
   "id": "40c46a7a",
   "metadata": {},
   "outputs": [
    {
     "name": "stderr",
     "output_type": "stream",
     "text": [
      "/Users/jiwookim/opt/anaconda3/lib/python3.7/site-packages/statsmodels/tsa/arima_model.py:472: FutureWarning: \n",
      "statsmodels.tsa.arima_model.ARMA and statsmodels.tsa.arima_model.ARIMA have\n",
      "been deprecated in favor of statsmodels.tsa.arima.model.ARIMA (note the .\n",
      "between arima and model) and\n",
      "statsmodels.tsa.SARIMAX. These will be removed after the 0.12 release.\n",
      "\n",
      "statsmodels.tsa.arima.model.ARIMA makes use of the statespace framework and\n",
      "is both well tested and maintained.\n",
      "\n",
      "To silence this warning and continue using ARMA and ARIMA until they are\n",
      "removed, use:\n",
      "\n",
      "import warnings\n",
      "warnings.filterwarnings('ignore', 'statsmodels.tsa.arima_model.ARMA',\n",
      "                        FutureWarning)\n",
      "warnings.filterwarnings('ignore', 'statsmodels.tsa.arima_model.ARIMA',\n",
      "                        FutureWarning)\n",
      "\n",
      "  warnings.warn(ARIMA_DEPRECATION_WARN, FutureWarning)\n",
      " This problem is unconstrained.\n"
     ]
    },
    {
     "name": "stdout",
     "output_type": "stream",
     "text": [
      "RUNNING THE L-BFGS-B CODE\n",
      "\n",
      "           * * *\n",
      "\n",
      "Machine precision = 2.220D-16\n",
      " N =            3     M =           12\n",
      "\n",
      "At X0         0 variables are exactly at the bounds\n",
      "\n",
      "At iterate    0    f= -3.42369D+00    |proj g|=  1.60897D+03\n",
      "\n",
      "           * * *\n",
      "\n",
      "Tit   = total number of iterations\n",
      "Tnf   = total number of function evaluations\n",
      "Tnint = total number of segments explored during Cauchy searches\n",
      "Skip  = number of BFGS updates skipped\n",
      "Nact  = number of active bounds at final generalized Cauchy point\n",
      "Projg = norm of the final projected gradient\n",
      "F     = final function value\n",
      "\n",
      "           * * *\n",
      "\n",
      "   N    Tit     Tnf  Tnint  Skip  Nact     Projg        F\n",
      "    3      1     21      1     0     0   1.609D+03  -3.424D+00\n",
      "  F =  -3.4236860820765163     \n",
      "\n",
      "ABNORMAL_TERMINATION_IN_LNSRCH                              \n"
     ]
    },
    {
     "name": "stderr",
     "output_type": "stream",
     "text": [
      "\n",
      " Line search cannot locate an adequate point after MAXLS\n",
      "  function and gradient evaluations.\n",
      "  Previous x, f and g restored.\n",
      " Possible causes: 1 error in function or gradient evaluation;\n",
      "                  2 rounding error dominate computation.\n",
      "/Users/jiwookim/opt/anaconda3/lib/python3.7/site-packages/statsmodels/base/model.py:568: ConvergenceWarning: Maximum Likelihood optimization failed to converge. Check mle_retvals\n",
      "  ConvergenceWarning)\n"
     ]
    },
    {
     "name": "stdout",
     "output_type": "stream",
     "text": [
      "                             ARIMA Model Results                              \n",
      "==============================================================================\n",
      "Dep. Variable:                   D2.y   No. Observations:                25875\n",
      "Model:                 ARIMA(0, 2, 2)   Log Likelihood               88587.877\n",
      "Method:                       css-mle   S.D. of innovations              0.008\n",
      "Date:                Sun, 12 Jun 2022   AIC                        -177167.755\n",
      "Time:                        19:58:47   BIC                        -177135.111\n",
      "Sample:                             2   HQIC                       -177157.206\n",
      "                                                                              \n",
      "==============================================================================\n",
      "                 coef    std err          z      P>|z|      [0.025      0.975]\n",
      "------------------------------------------------------------------------------\n",
      "const      -1.032e-09   1.05e-08     -0.098      0.922   -2.17e-08    1.96e-08\n",
      "ma.L1.D2.y    -0.9971      0.003   -297.871      0.000      -1.004      -0.991\n",
      "ma.L2.D2.y    -0.0027      0.003     -0.821      0.412      -0.009       0.004\n",
      "                                    Roots                                    \n",
      "=============================================================================\n",
      "                  Real          Imaginary           Modulus         Frequency\n",
      "-----------------------------------------------------------------------------\n",
      "MA.1            1.0001           +0.0000j            1.0001            0.0000\n",
      "MA.2         -364.3471           +0.0000j          364.3471            0.5000\n",
      "-----------------------------------------------------------------------------\n"
     ]
    }
   ],
   "source": [
    "from statsmodels.tsa.arima_model import ARIMA\n",
    "import statsmodels.api as sm\n",
    "\n",
    "arm= ARIMA(Ozone.O3.values, order=(0,2,2))#p (time lag. of AR),d (time lag. of MA),q(difference 차수)\n",
    "arm_fit = arm.fit(trend='c', full_output=True, disp=True)\n",
    "print(arm_fit.summary())"
   ]
  },
  {
   "cell_type": "code",
   "execution_count": 207,
   "id": "9a941214",
   "metadata": {},
   "outputs": [
    {
     "data": {
      "text/plain": [
       "<AxesSubplot:title={'center':'Residual'}>"
      ]
     },
     "execution_count": 207,
     "metadata": {},
     "output_type": "execute_result"
    },
    {
     "data": {
      "image/png": "[encoded data removed]",
      "text/plain": [
       "<Figure size 432x288 with 1 Axes>"
      ]
     },
     "metadata": {
      "needs_background": "light"
     },
     "output_type": "display_data"
    }
   ],
   "source": [
    "residuals = pd.DataFrame(arm_fit.resid)\n",
    "residuals.plot(title = \"Residual\")"
   ]
  },
  {
   "cell_type": "code",
   "execution_count": 208,
   "id": "7d84ab8c",
   "metadata": {},
   "outputs": [
    {
     "data": {
      "image/png": "[encoded data removed]",
      "text/plain": [
       "<Figure size 432x288 with 1 Axes>"
      ]
     },
     "metadata": {
      "needs_background": "light"
     },
     "output_type": "display_data"
    }
   ],
   "source": [
    "fig = arm_fit.plot_predict(alpha=0.9)"
   ]
  }
 ],
 "metadata": {
  "kernelspec": {
   "display_name": "Python 3 (ipykernel)",
   "language": "python",
   "name": "python3"
  },
  "language_info": {
   "codemirror_mode": {
    "name": "ipython",
    "version": 3
   },
   "file_extension": ".py",
   "mimetype": "text/x-python",
   "name": "python",
   "nbconvert_exporter": "python",
   "pygments_lexer": "ipython3",
   "version": "3.7.11"
  }
 },
 "nbformat": 4,
 "nbformat_minor": 5
}
